{
  "metadata": {
    "kernelspec": {
      "name": "xpython",
      "display_name": "Python 3.13 (XPython)",
      "language": "python"
    },
    "language_info": {
      "file_extension": ".py",
      "mimetype": "text/x-python",
      "name": "python",
      "version": "3.13.1"
    }
  },
  "nbformat_minor": 5,
  "nbformat": 4,
  "cells": [
    {
      "id": "1dfb0cc8-103e-4fed-ab0d-f1dc2be4d549",
      "cell_type": "code",
      "source": "# Final Project - Introduction to Data Science Tools\n",
      "metadata": {
        "trusted": true
      },
      "outputs": [],
      "execution_count": null
    },
    {
      "id": "d4bccaaf-593b-4564-83c2-f87761f80e8a",
      "cell_type": "code",
      "source": "## Introduction\nThis notebook presents an overview of important tools, languages, and libraries used in the field of Data Science. It also includes basic Python operations like arithmetic expressions and time conversions.\n",
      "metadata": {
        "trusted": true
      },
      "outputs": [],
      "execution_count": null
    },
    {
      "id": "9117bac0-f442-4642-9a9f-64e8bfd103f2",
      "cell_type": "code",
      "source": "## Data Science Languages\nSome commonly used programming languages for Data Science include:\n\n- Python\n- R\n- SQL\n- Julia\n- Scala\n",
      "metadata": {
        "trusted": true
      },
      "outputs": [],
      "execution_count": null
    },
    {
      "id": "b3021ed2-2957-4483-b549-42f38ab9ec2b",
      "cell_type": "code",
      "source": "## Data Science Libraries\nPopular libraries used by data scientists:\n\n- Pandas\n- NumPy\n- Matplotlib\n- Scikit-learn\n- TensorFlow\n- Keras\n- PyTorch\n",
      "metadata": {
        "trusted": true
      },
      "outputs": [],
      "execution_count": null
    },
    {
      "id": "98e2ba35-7705-4528-97d1-2a8aa0db9dec",
      "cell_type": "code",
      "source": "## Data Science Tools\n\n| Tool           | Description                             |\n|----------------|-----------------------------------------|\n| Jupyter        | Interactive notebook environment        |\n| RStudio        | IDE for R programming                   |\n| Apache Spark   | Distributed data processing framework   |\n| TensorFlow     | Open-source machine learning platform   |\n| RapidMiner     | Visual data science and ML platform     |\n",
      "metadata": {
        "trusted": true
      },
      "outputs": [],
      "execution_count": null
    },
    {
      "id": "d4f23f29-0cb3-4379-bd6b-39ac293b6196",
      "cell_type": "code",
      "source": "## Examples of Arithmetic Expressions in Python\nBelow is an example of an arithmetic operation using multiplication and addition.\n",
      "metadata": {
        "trusted": true
      },
      "outputs": [],
      "execution_count": null
    },
    {
      "id": "f70e1f81-4432-4b2c-89a2-1163344be174",
      "cell_type": "code",
      "source": "# Multiply 6 by 7 and add 10\nresult = (6 * 7) + 10\nprint(\"Result:\", result)\n",
      "metadata": {
        "trusted": true
      },
      "outputs": [],
      "execution_count": null
    },
    {
      "id": "8b4824f7-df0d-48fa-a799-22a24a1f4445",
      "cell_type": "code",
      "source": "# Convert 150 minutes to hours\nminutes = 150\nhours = minutes / 60\nprint(\"Hours:\", hours)\n",
      "metadata": {
        "trusted": true
      },
      "outputs": [],
      "execution_count": null
    },
    {
      "id": "20e8787e-77e3-4693-b622-d4ea9e1d8468",
      "cell_type": "code",
      "source": "## Objectives\nThe main goals of this notebook are to:\n\n- List popular programming languages used in data science.\n- Mention commonly used libraries.\n- Provide a table of tools for data science.\n- Show examples of arithmetic expressions.\n- Convert minutes into hours using Python code.\n",
      "metadata": {
        "trusted": true
      },
      "outputs": [],
      "execution_count": null
    },
    {
      "id": "eea755ba-65a1-4bfb-9043-da292cb40d46",
      "cell_type": "code",
      "source": "## Author\nAditya Raj\n",
      "metadata": {
        "trusted": true
      },
      "outputs": [],
      "execution_count": null
    },
    {
      "id": "b03fcbdf-2559-4e71-8f16-b353632925ad",
      "cell_type": "code",
      "source": "## GitHub Link\nAditya12-sudo\n",
      "metadata": {
        "trusted": true
      },
      "outputs": [],
      "execution_count": null
    },
    {
      "id": "734334b9-817d-4088-8f18-79bf80c13f71",
      "cell_type": "code",
      "source": "",
      "metadata": {
        "trusted": true
      },
      "outputs": [],
      "execution_count": null
    }
  ]
}